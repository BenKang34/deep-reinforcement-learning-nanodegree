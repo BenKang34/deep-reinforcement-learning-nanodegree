{
 "cells": [
  {
   "cell_type": "markdown",
   "metadata": {
    "toc": true
   },
   "source": [
    "<h1>Table of Contents<span class=\"tocSkip\"></span></h1>\n",
    "<div class=\"toc\"><ul class=\"toc-item\"><li><span><a href=\"#1.-Start-the-Environment\" data-toc-modified-id=\"1.-Start-the-Environment-1\"><span class=\"toc-item-num\">1&nbsp;&nbsp;</span>1. Start the Environment</a></span></li><li><span><a href=\"#2.-Examine-the-State-and-Action-Spaces\" data-toc-modified-id=\"2.-Examine-the-State-and-Action-Spaces-2\"><span class=\"toc-item-num\">2&nbsp;&nbsp;</span>2. Examine the State and Action Spaces</a></span></li><li><span><a href=\"#3.-Take-Random-Actions-in-the-Environment\" data-toc-modified-id=\"3.-Take-Random-Actions-in-the-Environment-3\"><span class=\"toc-item-num\">3&nbsp;&nbsp;</span>3. Take Random Actions in the Environment</a></span></li><li><span><a href=\"#4.-It's-Your-Turn!\" data-toc-modified-id=\"4.-It's-Your-Turn!-4\"><span class=\"toc-item-num\">4&nbsp;&nbsp;</span>4. It's Your Turn!</a></span></li></ul></div>"
   ]
  },
  {
   "cell_type": "markdown",
   "metadata": {},
   "source": [
    "# Continuous Control\n",
    "\n",
    "---\n",
    "\n",
    "You are welcome to use this coding environment to train your agent for the project.  Follow the instructions below to get started!\n",
    "\n",
    "### 1. Start the Environment\n",
    "\n",
    "Run the next code cell to install a few packages.  This line will take a few minutes to run!"
   ]
  },
  {
   "cell_type": "code",
   "execution_count": 1,
   "metadata": {},
   "outputs": [
    {
     "name": "stdout",
     "output_type": "stream",
     "text": [
      "\u001b[31mtensorflow 1.7.1 has requirement numpy>=1.13.3, but you'll have numpy 1.12.1 which is incompatible.\u001b[0m\r\n",
      "\u001b[31mipython 6.5.0 has requirement prompt-toolkit<2.0.0,>=1.0.15, but you'll have prompt-toolkit 3.0.5 which is incompatible.\u001b[0m\r\n"
     ]
    }
   ],
   "source": [
    "!pip -q install ./python"
   ]
  },
  {
   "cell_type": "markdown",
   "metadata": {},
   "source": [
    "The environments corresponding to both versions of the environment are already saved in the Workspace and can be accessed at the file paths provided below.  \n",
    "\n",
    "Please select one of the two options below for loading the environment."
   ]
  },
  {
   "cell_type": "code",
   "execution_count": 1,
   "metadata": {
    "ExecuteTime": {
     "end_time": "2020-07-28T23:14:58.212977Z",
     "start_time": "2020-07-28T23:14:53.817194Z"
    }
   },
   "outputs": [
    {
     "name": "stderr",
     "output_type": "stream",
     "text": [
      "INFO:unityagents:\n",
      "'Academy' started successfully!\n",
      "Unity Academy name: Academy\n",
      "        Number of Brains: 1\n",
      "        Number of External Brains : 1\n",
      "        Lesson number : 0\n",
      "        Reset Parameters :\n",
      "\t\tgoal_speed -> 1.0\n",
      "\t\tgoal_size -> 5.0\n",
      "Unity brain name: ReacherBrain\n",
      "        Number of Visual Observations (per agent): 0\n",
      "        Vector Observation space type: continuous\n",
      "        Vector Observation space size (per agent): 33\n",
      "        Number of stacked Vector Observation: 1\n",
      "        Vector Action space type: continuous\n",
      "        Vector Action space size (per agent): 4\n",
      "        Vector Action descriptions: , , , \n"
     ]
    }
   ],
   "source": [
    "from unityagents import UnityEnvironment\n",
    "import numpy as np\n",
    "\n",
    "# select this option to load version 1 (with a single agent) of the environment\n",
    "#env = UnityEnvironment(file_name='/data/Reacher_One_Linux_NoVis/Reacher_One_Linux_NoVis.x86_64')\n",
    "\n",
    "# select this option to load version 2 (with 20 agents) of the environment\n",
    "#env = UnityEnvironment(file_name='/data/Reacher_Linux_NoVis/Reacher.x86_64')\n",
    "env = UnityEnvironment(file_name='Reacher.app')"
   ]
  },
  {
   "cell_type": "markdown",
   "metadata": {},
   "source": [
    "Environments contain **_brains_** which are responsible for deciding the actions of their associated agents. Here we check for the first brain available, and set it as the default brain we will be controlling from Python."
   ]
  },
  {
   "cell_type": "code",
   "execution_count": 2,
   "metadata": {
    "ExecuteTime": {
     "end_time": "2020-07-28T23:14:58.227776Z",
     "start_time": "2020-07-28T23:14:58.222778Z"
    }
   },
   "outputs": [],
   "source": [
    "# get the default brain\n",
    "brain_name = env.brain_names[0]\n",
    "brain = env.brains[brain_name]"
   ]
  },
  {
   "cell_type": "markdown",
   "metadata": {},
   "source": [
    "### 2. Examine the State and Action Spaces\n",
    "\n",
    "Run the code cell below to print some information about the environment."
   ]
  },
  {
   "cell_type": "code",
   "execution_count": 3,
   "metadata": {
    "ExecuteTime": {
     "end_time": "2020-07-28T23:15:00.101675Z",
     "start_time": "2020-07-28T23:14:59.889858Z"
    }
   },
   "outputs": [
    {
     "name": "stdout",
     "output_type": "stream",
     "text": [
      "Number of agents: 20\n",
      "Size of each action: 4\n",
      "There are 20 agents. Each observes a state with length: 33\n",
      "The state for the first agent looks like: [ 0.00000000e+00 -4.00000000e+00  0.00000000e+00  1.00000000e+00\n",
      " -0.00000000e+00 -0.00000000e+00 -4.37113883e-08  0.00000000e+00\n",
      "  0.00000000e+00  0.00000000e+00  0.00000000e+00  0.00000000e+00\n",
      "  0.00000000e+00  0.00000000e+00 -1.00000000e+01  0.00000000e+00\n",
      "  1.00000000e+00 -0.00000000e+00 -0.00000000e+00 -4.37113883e-08\n",
      "  0.00000000e+00  0.00000000e+00  0.00000000e+00  0.00000000e+00\n",
      "  0.00000000e+00  0.00000000e+00  5.75471878e+00 -1.00000000e+00\n",
      "  5.55726624e+00  0.00000000e+00  1.00000000e+00  0.00000000e+00\n",
      " -1.68164849e-01]\n"
     ]
    }
   ],
   "source": [
    "# reset the environment\n",
    "env_info = env.reset(train_mode=True)[brain_name]\n",
    "\n",
    "# number of agents\n",
    "num_agents = len(env_info.agents)\n",
    "print('Number of agents:', num_agents)\n",
    "\n",
    "# size of each action\n",
    "action_size = brain.vector_action_space_size\n",
    "print('Size of each action:', action_size)\n",
    "\n",
    "# examine the state space \n",
    "states = env_info.vector_observations\n",
    "state_size = states.shape[1]\n",
    "print('There are {} agents. Each observes a state with length: {}'.format(states.shape[0], state_size))\n",
    "print('The state for the first agent looks like:', states[0])"
   ]
  },
  {
   "cell_type": "markdown",
   "metadata": {},
   "source": [
    "### 3. Take Random Actions in the Environment\n",
    "\n",
    "In the next code cell, you will learn how to use the Python API to control the agent and receive feedback from the environment.\n",
    "\n",
    "Note that **in this coding environment, you will not be able to watch the agents while they are training**, and you should set `train_mode=True` to restart the environment."
   ]
  },
  {
   "cell_type": "code",
   "execution_count": null,
   "metadata": {},
   "outputs": [],
   "source": [
    "env_info = env.reset(train_mode=True)[brain_name]      # reset the environment    \n",
    "states = env_info.vector_observations                  # get the current state (for each agent)\n",
    "scores = np.zeros(num_agents)                          # initialize the score (for each agent)\n",
    "while True:\n",
    "    actions = np.random.randn(num_agents, action_size) # select an action (for each agent)\n",
    "    actions = np.clip(actions, -1, 1)                  # all actions between -1 and 1\n",
    "    env_info = env.step(actions)[brain_name]           # send all actions to tne environment\n",
    "    next_states = env_info.vector_observations         # get next state (for each agent)\n",
    "    rewards = env_info.rewards                         # get reward (for each agent)\n",
    "    dones = env_info.local_done                        # see if episode finished\n",
    "    scores += env_info.rewards                         # update the score (for each agent)\n",
    "    states = next_states                               # roll over states to next time step\n",
    "    if np.any(dones):                                  # exit loop if episode finished\n",
    "        break\n",
    "print('Total score (averaged over agents) this episode: {}'.format(np.mean(scores)))"
   ]
  },
  {
   "cell_type": "markdown",
   "metadata": {},
   "source": [
    "When finished, you can close the environment."
   ]
  },
  {
   "cell_type": "code",
   "execution_count": null,
   "metadata": {},
   "outputs": [],
   "source": [
    "env.close()"
   ]
  },
  {
   "cell_type": "markdown",
   "metadata": {},
   "source": [
    "### 4. It's Your Turn!\n",
    "\n",
    "Now it's your turn to train your own agent to solve the environment!  A few **important notes**:\n",
    "- When training the environment, set `train_mode=True`, so that the line for resetting the environment looks like the following:\n",
    "```python\n",
    "env_info = env.reset(train_mode=True)[brain_name]\n",
    "```\n",
    "- To structure your work, you're welcome to work directly in this Jupyter notebook, or you might like to start over with a new file!  You can see the list of files in the workspace by clicking on **_Jupyter_** in the top left corner of the notebook.\n",
    "- In this coding environment, you will not be able to watch the agents while they are training.  However, **_after training the agents_**, you can download the saved model weights to watch the agents on your own machine! "
   ]
  },
  {
   "cell_type": "code",
   "execution_count": 5,
   "metadata": {},
   "outputs": [],
   "source": [
    "import numpy as np\n",
    "from collections import deque\n",
    "from ddpg_agent import Agent\n",
    "import torch\n",
    "\n",
    "def ddpg(state_size, action_size, n_episodes=2000, max_t=1000, window=100, isTrainMode=True, print_every=100, ):\n",
    "    max_score = -float('inf')\n",
    "    scores_raw = []\n",
    "    scores_mean = []\n",
    "    scores_mean_sliding = deque(maxlen=window)\n",
    "    agent = Agent(state_size=state_size, action_size=action_size, num_agents=num_agents, random_seed=10)\n",
    "\n",
    "    for e in range(1, n_episodes+1):\n",
    "        env_info = env.reset(train_mode=isTrainMode)[brain_name]      # reset the environment    \n",
    "        states = env_info.vector_observations                  # get the current state (for each agent)\n",
    "        scores = np.zeros(num_agents)                          # initialize the score (for each agent)\n",
    "        agent.reset()\n",
    "\n",
    "        for t in range(max_t):\n",
    "            actions = agent.act(states)                        # select an action (for each agent)\n",
    "            actions = np.clip(actions, -1, 1)                  # all actions between -1 and 1\n",
    "            env_info = env.step(actions)[brain_name]           # send all actions to tne environment\n",
    "            next_states = env_info.vector_observations         # get next state (for each agent)\n",
    "            rewards = env_info.rewards                         # get reward (for each agent)\n",
    "            dones = env_info.local_done                        # see if episode finished\n",
    "\n",
    "            agent.step(states, actions, rewards, next_states, dones)\n",
    "\n",
    "            scores += rewards                                  # update the score (for each agent)\n",
    "            states = next_states                               # roll over states to next time step\n",
    "            if np.any(dones):                                  # exit loop if episode finished\n",
    "                break\n",
    "                \n",
    "        scores_raw.append(scores)\n",
    "        scores_mean.append(np.mean(scores))\n",
    "        scores_mean_sliding.append(np.mean(scores))\n",
    "        max_score = max(np.mean(scores), max_score)\n",
    "        \n",
    "        if e % print_every == 0:\n",
    "            print('Average score (averaged over agents) at episode No.{:4d}: {:.3f}, max {:.3f}'.format(e, np.mean(scores), max_score))\n",
    "        if all(np.array(scores_mean_sliding) >= 30):\n",
    "            print('Average score of +30 over 100 consecutive episodes achieved at episode No.{:4d}, {:.3f}'.format(e, np.mean(scores_mean_sliding)))\n",
    "            torch.save(agent.actor_local.state_dict(), 'checkpoint_actor.pth')\n",
    "            torch.save(agent.critic_local.state_dict(), 'checkpoint_critic.pth')\n",
    "        \n",
    "    return scores_raw, scores_mean, scores_mean_sliding"
   ]
  },
  {
   "cell_type": "code",
   "execution_count": 6,
   "metadata": {},
   "outputs": [
    {
     "name": "stdout",
     "output_type": "stream",
     "text": [
      "Average score (averaged over agents) at episode No.  10: 0.753, max 1.063\n",
      "Average score (averaged over agents) at episode No.  20: 3.406, max 3.406\n",
      "Average score (averaged over agents) at episode No.  30: 6.173, max 6.677\n",
      "Average score (averaged over agents) at episode No.  40: 6.557, max 7.547\n",
      "Average score (averaged over agents) at episode No.  50: 8.029, max 8.367\n",
      "Average score (averaged over agents) at episode No.  60: 11.267, max 13.008\n",
      "Average score (averaged over agents) at episode No.  70: 17.986, max 20.879\n",
      "Average score (averaged over agents) at episode No.  80: 22.801, max 25.740\n",
      "Average score (averaged over agents) at episode No.  90: 30.914, max 30.914\n",
      "Average score (averaged over agents) at episode No. 100: 34.832, max 35.375\n",
      "Average score (averaged over agents) at episode No. 110: 34.373, max 36.041\n",
      "Average score (averaged over agents) at episode No. 120: 34.479, max 36.041\n",
      "Average score (averaged over agents) at episode No. 130: 34.625, max 36.041\n",
      "Average score (averaged over agents) at episode No. 140: 34.224, max 36.462\n",
      "Average score (averaged over agents) at episode No. 150: 35.051, max 36.462\n",
      "Average score (averaged over agents) at episode No. 160: 36.941, max 36.941\n",
      "Average score (averaged over agents) at episode No. 170: 34.709, max 36.941\n",
      "Average score (averaged over agents) at episode No. 180: 34.617, max 36.941\n",
      "Average score of +30 over 100 consecutive episodes achieved at episode No. 187, 34.339\n",
      "Average score of +30 over 100 consecutive episodes achieved at episode No. 188, 34.391\n",
      "Average score of +30 over 100 consecutive episodes achieved at episode No. 189, 34.439\n",
      "Average score (averaged over agents) at episode No. 190: 35.106, max 36.941\n",
      "Average score of +30 over 100 consecutive episodes achieved at episode No. 190, 34.480\n",
      "Average score of +30 over 100 consecutive episodes achieved at episode No. 191, 34.518\n",
      "Average score of +30 over 100 consecutive episodes achieved at episode No. 192, 34.552\n",
      "Average score of +30 over 100 consecutive episodes achieved at episode No. 193, 34.571\n",
      "Average score of +30 over 100 consecutive episodes achieved at episode No. 194, 34.555\n",
      "Average score of +30 over 100 consecutive episodes achieved at episode No. 195, 34.556\n",
      "Average score of +30 over 100 consecutive episodes achieved at episode No. 196, 34.556\n",
      "Average score of +30 over 100 consecutive episodes achieved at episode No. 197, 34.562\n",
      "Average score of +30 over 100 consecutive episodes achieved at episode No. 198, 34.546\n",
      "Average score of +30 over 100 consecutive episodes achieved at episode No. 199, 34.542\n",
      "Average score (averaged over agents) at episode No. 200: 34.536, max 36.941\n",
      "Average score of +30 over 100 consecutive episodes achieved at episode No. 200, 34.539\n",
      "Average score of +30 over 100 consecutive episodes achieved at episode No. 201, 34.526\n",
      "Average score of +30 over 100 consecutive episodes achieved at episode No. 202, 34.535\n",
      "Average score of +30 over 100 consecutive episodes achieved at episode No. 203, 34.551\n",
      "Average score of +30 over 100 consecutive episodes achieved at episode No. 204, 34.547\n",
      "Average score of +30 over 100 consecutive episodes achieved at episode No. 205, 34.561\n",
      "Average score of +30 over 100 consecutive episodes achieved at episode No. 206, 34.588\n",
      "Average score of +30 over 100 consecutive episodes achieved at episode No. 207, 34.620\n",
      "Average score of +30 over 100 consecutive episodes achieved at episode No. 208, 34.649\n",
      "Average score of +30 over 100 consecutive episodes achieved at episode No. 209, 34.647\n",
      "Average score (averaged over agents) at episode No. 210: 36.306, max 36.941\n",
      "Average score of +30 over 100 consecutive episodes achieved at episode No. 210, 34.666\n",
      "Average score of +30 over 100 consecutive episodes achieved at episode No. 211, 34.687\n",
      "Average score of +30 over 100 consecutive episodes achieved at episode No. 212, 34.680\n",
      "Average score of +30 over 100 consecutive episodes achieved at episode No. 213, 34.694\n",
      "Average score of +30 over 100 consecutive episodes achieved at episode No. 214, 34.705\n",
      "Average score of +30 over 100 consecutive episodes achieved at episode No. 215, 34.672\n",
      "Average score of +30 over 100 consecutive episodes achieved at episode No. 216, 34.652\n",
      "Average score of +30 over 100 consecutive episodes achieved at episode No. 217, 34.649\n",
      "Average score of +30 over 100 consecutive episodes achieved at episode No. 218, 34.666\n",
      "Average score of +30 over 100 consecutive episodes achieved at episode No. 219, 34.686\n",
      "Average score (averaged over agents) at episode No. 220: 33.727, max 36.941\n",
      "Average score of +30 over 100 consecutive episodes achieved at episode No. 220, 34.679\n",
      "Average score of +30 over 100 consecutive episodes achieved at episode No. 221, 34.675\n",
      "Average score of +30 over 100 consecutive episodes achieved at episode No. 222, 34.682\n",
      "Average score of +30 over 100 consecutive episodes achieved at episode No. 223, 34.686\n",
      "Average score of +30 over 100 consecutive episodes achieved at episode No. 224, 34.693\n",
      "Average score of +30 over 100 consecutive episodes achieved at episode No. 225, 34.715\n",
      "Average score of +30 over 100 consecutive episodes achieved at episode No. 226, 34.716\n",
      "Average score of +30 over 100 consecutive episodes achieved at episode No. 227, 34.702\n",
      "Average score of +30 over 100 consecutive episodes achieved at episode No. 228, 34.693\n",
      "Average score of +30 over 100 consecutive episodes achieved at episode No. 229, 34.692\n",
      "Average score (averaged over agents) at episode No. 230: 34.103, max 36.941\n",
      "Average score of +30 over 100 consecutive episodes achieved at episode No. 230, 34.686\n",
      "Average score of +30 over 100 consecutive episodes achieved at episode No. 231, 34.695\n",
      "Average score of +30 over 100 consecutive episodes achieved at episode No. 232, 34.684\n",
      "Average score of +30 over 100 consecutive episodes achieved at episode No. 233, 34.672\n",
      "Average score of +30 over 100 consecutive episodes achieved at episode No. 234, 34.677\n",
      "Average score of +30 over 100 consecutive episodes achieved at episode No. 235, 34.671\n",
      "Average score of +30 over 100 consecutive episodes achieved at episode No. 236, 34.674\n",
      "Average score of +30 over 100 consecutive episodes achieved at episode No. 237, 34.665\n",
      "Average score of +30 over 100 consecutive episodes achieved at episode No. 238, 34.646\n",
      "Average score of +30 over 100 consecutive episodes achieved at episode No. 239, 34.637\n",
      "Average score (averaged over agents) at episode No. 240: 35.773, max 36.941\n",
      "Average score of +30 over 100 consecutive episodes achieved at episode No. 240, 34.653\n",
      "Average score of +30 over 100 consecutive episodes achieved at episode No. 241, 34.660\n",
      "Average score of +30 over 100 consecutive episodes achieved at episode No. 242, 34.674\n",
      "Average score of +30 over 100 consecutive episodes achieved at episode No. 243, 34.669\n",
      "Average score of +30 over 100 consecutive episodes achieved at episode No. 244, 34.678\n",
      "Average score of +30 over 100 consecutive episodes achieved at episode No. 245, 34.677\n",
      "Average score of +30 over 100 consecutive episodes achieved at episode No. 246, 34.692\n",
      "Average score of +30 over 100 consecutive episodes achieved at episode No. 247, 34.713\n",
      "Average score of +30 over 100 consecutive episodes achieved at episode No. 248, 34.744\n",
      "Average score of +30 over 100 consecutive episodes achieved at episode No. 249, 34.766\n",
      "Average score (averaged over agents) at episode No. 250: 36.252, max 37.271\n",
      "Average score of +30 over 100 consecutive episodes achieved at episode No. 250, 34.778\n",
      "Average score of +30 over 100 consecutive episodes achieved at episode No. 251, 34.798\n",
      "Average score of +30 over 100 consecutive episodes achieved at episode No. 252, 34.822\n",
      "Average score of +30 over 100 consecutive episodes achieved at episode No. 253, 34.846\n",
      "Average score of +30 over 100 consecutive episodes achieved at episode No. 254, 34.891\n",
      "Average score of +30 over 100 consecutive episodes achieved at episode No. 255, 34.923\n",
      "Average score of +30 over 100 consecutive episodes achieved at episode No. 256, 34.953\n",
      "Average score of +30 over 100 consecutive episodes achieved at episode No. 257, 34.978\n",
      "Average score of +30 over 100 consecutive episodes achieved at episode No. 258, 34.987\n",
      "Average score of +30 over 100 consecutive episodes achieved at episode No. 259, 34.994\n",
      "Average score (averaged over agents) at episode No. 260: 36.591, max 37.271\n",
      "Average score of +30 over 100 consecutive episodes achieved at episode No. 260, 34.991\n",
      "Average score of +30 over 100 consecutive episodes achieved at episode No. 261, 34.996\n",
      "Average score of +30 over 100 consecutive episodes achieved at episode No. 262, 35.018\n",
      "Average score of +30 over 100 consecutive episodes achieved at episode No. 263, 35.033\n",
      "Average score of +30 over 100 consecutive episodes achieved at episode No. 264, 35.045\n",
      "Average score of +30 over 100 consecutive episodes achieved at episode No. 265, 35.054\n",
      "Average score of +30 over 100 consecutive episodes achieved at episode No. 266, 35.071\n",
      "Average score of +30 over 100 consecutive episodes achieved at episode No. 267, 35.079\n",
      "Average score of +30 over 100 consecutive episodes achieved at episode No. 268, 35.098\n",
      "Average score of +30 over 100 consecutive episodes achieved at episode No. 269, 35.101\n",
      "Average score (averaged over agents) at episode No. 270: 37.476, max 37.476\n",
      "Average score of +30 over 100 consecutive episodes achieved at episode No. 270, 35.129\n",
      "Average score of +30 over 100 consecutive episodes achieved at episode No. 271, 35.143\n",
      "Average score of +30 over 100 consecutive episodes achieved at episode No. 272, 35.145\n",
      "Average score of +30 over 100 consecutive episodes achieved at episode No. 273, 35.168\n",
      "Average score of +30 over 100 consecutive episodes achieved at episode No. 274, 35.173\n",
      "Average score of +30 over 100 consecutive episodes achieved at episode No. 275, 35.170\n",
      "Average score of +30 over 100 consecutive episodes achieved at episode No. 276, 35.171\n",
      "Average score of +30 over 100 consecutive episodes achieved at episode No. 277, 35.164\n",
      "Average score of +30 over 100 consecutive episodes achieved at episode No. 278, 35.164\n",
      "Average score of +30 over 100 consecutive episodes achieved at episode No. 279, 35.198\n",
      "Average score (averaged over agents) at episode No. 280: 37.431, max 37.476\n",
      "Average score of +30 over 100 consecutive episodes achieved at episode No. 280, 35.226\n",
      "Average score of +30 over 100 consecutive episodes achieved at episode No. 281, 35.241\n",
      "Average score of +30 over 100 consecutive episodes achieved at episode No. 282, 35.253\n",
      "Average score of +30 over 100 consecutive episodes achieved at episode No. 283, 35.273\n",
      "Average score of +30 over 100 consecutive episodes achieved at episode No. 284, 35.284\n",
      "Average score of +30 over 100 consecutive episodes achieved at episode No. 285, 35.327\n",
      "Average score of +30 over 100 consecutive episodes achieved at episode No. 286, 35.352\n",
      "Average score of +30 over 100 consecutive episodes achieved at episode No. 287, 35.371\n",
      "Average score of +30 over 100 consecutive episodes achieved at episode No. 288, 35.376\n",
      "Average score of +30 over 100 consecutive episodes achieved at episode No. 289, 35.381\n",
      "Average score (averaged over agents) at episode No. 290: 36.196, max 37.489\n",
      "Average score of +30 over 100 consecutive episodes achieved at episode No. 290, 35.392\n",
      "Average score of +30 over 100 consecutive episodes achieved at episode No. 291, 35.380\n",
      "Average score of +30 over 100 consecutive episodes achieved at episode No. 292, 35.392\n",
      "Average score of +30 over 100 consecutive episodes achieved at episode No. 293, 35.410\n",
      "Average score of +30 over 100 consecutive episodes achieved at episode No. 294, 35.444\n",
      "Average score of +30 over 100 consecutive episodes achieved at episode No. 295, 35.464\n",
      "Average score of +30 over 100 consecutive episodes achieved at episode No. 296, 35.454\n",
      "Average score of +30 over 100 consecutive episodes achieved at episode No. 297, 35.458\n",
      "Average score of +30 over 100 consecutive episodes achieved at episode No. 298, 35.467\n",
      "Average score of +30 over 100 consecutive episodes achieved at episode No. 299, 35.486\n",
      "Average score (averaged over agents) at episode No. 300: 33.525, max 37.489\n",
      "Average score of +30 over 100 consecutive episodes achieved at episode No. 300, 35.476\n"
     ]
    }
   ],
   "source": [
    "from workspace_utils import active_session\n",
    "with active_session():\n",
    "    scores_raw, scores_mean, scores_mean_sliding = ddpg(state_size, action_size, n_episodes=300, print_every=10)"
   ]
  },
  {
   "cell_type": "code",
   "execution_count": 7,
   "metadata": {},
   "outputs": [
    {
     "data": {
      "image/png": "[encoded data removed]",
      "text/plain": [
       "<matplotlib.figure.Figure at 0x7f65873fe898>"
      ]
     },
     "metadata": {
      "needs_background": "light"
     },
     "output_type": "display_data"
    }
   ],
   "source": [
    "import matplotlib.pyplot as plt\n",
    "%matplotlib inline\n",
    "\n",
    "fig = plt.figure()\n",
    "ax = fig.add_subplot(111)\n",
    "plt.plot(np.arange(1, len(scores_mean)+1), scores_mean)\n",
    "plt.ylabel('Score')\n",
    "plt.xlabel('Episode #')\n",
    "plt.show()"
   ]
  },
  {
   "cell_type": "code",
   "execution_count": 8,
   "metadata": {},
   "outputs": [],
   "source": [
    "with open('scores_mean.txt', 'w') as f:\n",
    "    f.write('\\n'.join([str(i) for i in scores_mean]))\n",
    "with open('scores_mean_sliding.txt', 'w') as f:\n",
    "    f.write('\\n'.join([str(i) for i in scores_mean_sliding]))\n",
    "with open('scores_raw.txt', 'w') as f:\n",
    "    f.write('\\n'.join([' '.join(i.astype(str)) for i in scores_raw]))"
   ]
  },
  {
   "cell_type": "code",
   "execution_count": 4,
   "metadata": {
    "ExecuteTime": {
     "end_time": "2020-07-28T23:17:03.094167Z",
     "start_time": "2020-07-28T23:15:09.967827Z"
    }
   },
   "outputs": [
    {
     "name": "stdout",
     "output_type": "stream",
     "text": [
      "Final Score: 35.67699920255695\n"
     ]
    }
   ],
   "source": [
    "from ddpg_agent import Agent\n",
    "import torch\n",
    "\n",
    "agent = Agent(state_size=state_size, action_size=action_size, num_agents=num_agents, random_seed=10)\n",
    "agent.actor_local.load_state_dict(torch.load('checkpoint_actor.pth'))\n",
    "agent.critic_local.load_state_dict(torch.load('checkpoint_critic.pth'))\n",
    "\n",
    "scores = 0\n",
    "env_info = env.reset(train_mode=False)[brain_name]      # reset the environment    \n",
    "states = env_info.vector_observations\n",
    "\n",
    "for t in range(1000):\n",
    "    actions = agent.act(states)                        # select an action (for each agent)\n",
    "    actions = np.clip(actions, -1, 1)                  # all actions between -1 and 1\n",
    "    env_info = env.step(actions)[brain_name]           # send all actions to tne environment\n",
    "    next_states = env_info.vector_observations         # get next state (for each agent)\n",
    "    rewards = env_info.rewards                         # get reward (for each agent)\n",
    "    dones = env_info.local_done                        # see if episode finished\n",
    "\n",
    "    scores += np.mean(rewards)                         # update the score (for each agent)\n",
    "    states = next_states                               # roll over states to next time step\n",
    "    if np.any(dones):                                  # exit loop if episode finished\n",
    "        break\n",
    "\n",
    "print('Final Score: {}'.format(scores))\n",
    "env.close()"
   ]
  },
  {
   "cell_type": "code",
   "execution_count": null,
   "metadata": {},
   "outputs": [],
   "source": []
  }
 ],
 "metadata": {
  "kernelspec": {
   "display_name": "drlnd",
   "language": "python",
   "name": "drlnd"
  },
  "language_info": {
   "codemirror_mode": {
    "name": "ipython",
    "version": 3
   },
   "file_extension": ".py",
   "mimetype": "text/x-python",
   "name": "python",
   "nbconvert_exporter": "python",
   "pygments_lexer": "ipython3",
   "version": "3.6.10"
  },
  "toc": {
   "base_numbering": 1,
   "nav_menu": {},
   "number_sections": true,
   "sideBar": true,
   "skip_h1_title": true,
   "title_cell": "Table of Contents",
   "title_sidebar": "Contents",
   "toc_cell": true,
   "toc_position": {},
   "toc_section_display": true,
   "toc_window_display": true
  }
 },
 "nbformat": 4,
 "nbformat_minor": 2
}
