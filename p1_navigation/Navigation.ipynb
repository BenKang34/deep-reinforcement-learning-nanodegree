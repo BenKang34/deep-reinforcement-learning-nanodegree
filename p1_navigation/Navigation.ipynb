{
 "cells": [
  {
   "cell_type": "markdown",
   "metadata": {
    "toc": true
   },
   "source": [
    "<h1>Table of Contents<span class=\"tocSkip\"></span></h1>\n",
    "<div class=\"toc\"><ul class=\"toc-item\"><li><span><a href=\"#1.-Start-the-Environment\" data-toc-modified-id=\"1.-Start-the-Environment-1\"><span class=\"toc-item-num\">1&nbsp;&nbsp;</span>1. Start the Environment</a></span></li><li><span><a href=\"#2.-Examine-the-State-and-Action-Spaces\" data-toc-modified-id=\"2.-Examine-the-State-and-Action-Spaces-2\"><span class=\"toc-item-num\">2&nbsp;&nbsp;</span>2. Examine the State and Action Spaces</a></span></li><li><span><a href=\"#3.-Take-Random-Actions-in-the-Environment\" data-toc-modified-id=\"3.-Take-Random-Actions-in-the-Environment-3\"><span class=\"toc-item-num\">3&nbsp;&nbsp;</span>3. Take Random Actions in the Environment</a></span></li><li><span><a href=\"#4.-It's-Your-Turn!\" data-toc-modified-id=\"4.-It's-Your-Turn!-4\"><span class=\"toc-item-num\">4&nbsp;&nbsp;</span>4. It's Your Turn!</a></span><ul class=\"toc-item\"><li><span><a href=\"#Deep-Q-Network\" data-toc-modified-id=\"Deep-Q-Network-4.1\"><span class=\"toc-item-num\">4.1&nbsp;&nbsp;</span>Deep Q-Network</a></span></li><li><span><a href=\"#Double-Deep-Q-Network\" data-toc-modified-id=\"Double-Deep-Q-Network-4.2\"><span class=\"toc-item-num\">4.2&nbsp;&nbsp;</span>Double Deep Q-Network</a></span></li></ul></li><li><span><a href=\"#Try-Your-Agent\" data-toc-modified-id=\"Try-Your-Agent-5\"><span class=\"toc-item-num\">5&nbsp;&nbsp;</span>Try Your Agent</a></span></li></ul></div>"
   ]
  },
  {
   "cell_type": "markdown",
   "metadata": {},
   "source": [
    "# Navigation\n",
    "\n",
    "---\n",
    "\n",
    "In this notebook, you will learn how to use the Unity ML-Agents environment for the first project of the [Deep Reinforcement Learning Nanodegree](https://www.udacity.com/course/deep-reinforcement-learning-nanodegree--nd893).\n",
    "\n",
    "### 1. Start the Environment\n",
    "\n",
    "We begin by importing some necessary packages.  If the code cell below returns an error, please revisit the project instructions to double-check that you have installed [Unity ML-Agents](https://github.com/Unity-Technologies/ml-agents/blob/master/docs/Installation.md) and [NumPy](http://www.numpy.org/)."
   ]
  },
  {
   "cell_type": "code",
   "execution_count": 1,
   "metadata": {
    "ExecuteTime": {
     "end_time": "2020-05-31T15:49:51.502109Z",
     "start_time": "2020-05-31T15:49:49.585119Z"
    }
   },
   "outputs": [],
   "source": [
    "from unityagents import UnityEnvironment\n",
    "import numpy as np\n",
    "%matplotlib inline\n",
    "import matplotlib.pyplot as plt\n",
    "import pandas as pd"
   ]
  },
  {
   "cell_type": "markdown",
   "metadata": {},
   "source": [
    "Next, we will start the environment!  **_Before running the code cell below_**, change the `file_name` parameter to match the location of the Unity environment that you downloaded.\n",
    "\n",
    "- **Mac**: `\"path/to/Banana.app\"`\n",
    "- **Windows** (x86): `\"path/to/Banana_Windows_x86/Banana.exe\"`\n",
    "- **Windows** (x86_64): `\"path/to/Banana_Windows_x86_64/Banana.exe\"`\n",
    "- **Linux** (x86): `\"path/to/Banana_Linux/Banana.x86\"`\n",
    "- **Linux** (x86_64): `\"path/to/Banana_Linux/Banana.x86_64\"`\n",
    "- **Linux** (x86, headless): `\"path/to/Banana_Linux_NoVis/Banana.x86\"`\n",
    "- **Linux** (x86_64, headless): `\"path/to/Banana_Linux_NoVis/Banana.x86_64\"`\n",
    "\n",
    "For instance, if you are using a Mac, then you downloaded `Banana.app`.  If this file is in the same folder as the notebook, then the line below should appear as follows:\n",
    "```\n",
    "env = UnityEnvironment(file_name=\"Banana.app\")\n",
    "```"
   ]
  },
  {
   "cell_type": "code",
   "execution_count": 2,
   "metadata": {
    "ExecuteTime": {
     "end_time": "2020-05-31T15:49:54.912577Z",
     "start_time": "2020-05-31T15:49:51.510182Z"
    }
   },
   "outputs": [
    {
     "name": "stderr",
     "output_type": "stream",
     "text": [
      "INFO:unityagents:\n",
      "'Academy' started successfully!\n",
      "Unity Academy name: Academy\n",
      "        Number of Brains: 1\n",
      "        Number of External Brains : 1\n",
      "        Lesson number : 0\n",
      "        Reset Parameters :\n",
      "\t\t\n",
      "Unity brain name: BananaBrain\n",
      "        Number of Visual Observations (per agent): 0\n",
      "        Vector Observation space type: continuous\n",
      "        Vector Observation space size (per agent): 37\n",
      "        Number of stacked Vector Observation: 1\n",
      "        Vector Action space type: discrete\n",
      "        Vector Action space size (per agent): 4\n",
      "        Vector Action descriptions: , , , \n"
     ]
    }
   ],
   "source": [
    "env = UnityEnvironment(file_name=\"Banana.app\")"
   ]
  },
  {
   "cell_type": "markdown",
   "metadata": {},
   "source": [
    "Environments contain **_brains_** which are responsible for deciding the actions of their associated agents. Here we check for the first brain available, and set it as the default brain we will be controlling from Python."
   ]
  },
  {
   "cell_type": "code",
   "execution_count": 3,
   "metadata": {
    "ExecuteTime": {
     "end_time": "2020-05-31T15:49:54.919932Z",
     "start_time": "2020-05-31T15:49:54.915299Z"
    }
   },
   "outputs": [],
   "source": [
    "# get the default brain\n",
    "brain_name = env.brain_names[0]\n",
    "brain = env.brains[brain_name]"
   ]
  },
  {
   "cell_type": "markdown",
   "metadata": {},
   "source": [
    "### 2. Examine the State and Action Spaces\n",
    "\n",
    "The simulation contains a single agent that navigates a large environment.  At each time step, it has four actions at its disposal:\n",
    "- `0` - walk forward \n",
    "- `1` - walk backward\n",
    "- `2` - turn left\n",
    "- `3` - turn right\n",
    "\n",
    "The state space has `37` dimensions and contains the agent's velocity, along with ray-based perception of objects around agent's forward direction.  A reward of `+1` is provided for collecting a yellow banana, and a reward of `-1` is provided for collecting a blue banana. \n",
    "\n",
    "Run the code cell below to print some information about the environment."
   ]
  },
  {
   "cell_type": "code",
   "execution_count": 4,
   "metadata": {
    "ExecuteTime": {
     "end_time": "2020-05-31T15:49:55.141738Z",
     "start_time": "2020-05-31T15:49:54.922733Z"
    }
   },
   "outputs": [
    {
     "name": "stdout",
     "output_type": "stream",
     "text": [
      "Number of agents: 1\n",
      "Number of actions: 4\n",
      "States look like: [1.         0.         0.         0.         0.84408134 0.\n",
      " 0.         1.         0.         0.0748472  0.         1.\n",
      " 0.         0.         0.25755    1.         0.         0.\n",
      " 0.         0.74177343 0.         1.         0.         0.\n",
      " 0.25854847 0.         0.         1.         0.         0.09355672\n",
      " 0.         1.         0.         0.         0.31969345 0.\n",
      " 0.        ]\n",
      "States have length: 37\n"
     ]
    }
   ],
   "source": [
    "# reset the environment\n",
    "env_info = env.reset(train_mode=True)[brain_name]\n",
    "\n",
    "# number of agents in the environment\n",
    "print('Number of agents:', len(env_info.agents))\n",
    "\n",
    "# number of actions\n",
    "action_size = brain.vector_action_space_size\n",
    "print('Number of actions:', action_size)\n",
    "\n",
    "# examine the state space \n",
    "state = env_info.vector_observations[0]\n",
    "print('States look like:', state)\n",
    "state_size = len(state)\n",
    "print('States have length:', state_size)"
   ]
  },
  {
   "cell_type": "markdown",
   "metadata": {},
   "source": [
    "### 3. Take Random Actions in the Environment\n",
    "\n",
    "In the next code cell, you will learn how to use the Python API to control the agent and receive feedback from the environment.\n",
    "\n",
    "Once this cell is executed, you will watch the agent's performance, if it selects an action (uniformly) at random with each time step.  A window should pop up that allows you to observe the agent, as it moves through the environment.  \n",
    "\n",
    "Of course, as part of the project, you'll have to change the code so that the agent is able to use its experience to gradually choose better actions when interacting with the environment!"
   ]
  },
  {
   "cell_type": "code",
   "execution_count": 8,
   "metadata": {
    "ExecuteTime": {
     "end_time": "2020-05-29T02:55:19.868171Z",
     "start_time": "2020-05-29T02:54:43.452550Z"
    }
   },
   "outputs": [
    {
     "name": "stdout",
     "output_type": "stream",
     "text": [
      "Score: -1.0\n"
     ]
    }
   ],
   "source": [
    "env_info = env.reset(train_mode=False)[brain_name] # reset the environment\n",
    "state = env_info.vector_observations[0]            # get the current state\n",
    "score = 0                                          # initialize the score\n",
    "while True:\n",
    "    action = np.random.randint(action_size)        # select an action\n",
    "    env_info = env.step(action)[brain_name]        # send the action to the environment\n",
    "    next_state = env_info.vector_observations[0]   # get the next state\n",
    "    reward = env_info.rewards[0]                   # get the reward\n",
    "    done = env_info.local_done[0]                  # see if episode has finished\n",
    "    score += reward                                # update the score\n",
    "    state = next_state                             # roll over the state to next time step\n",
    "    if done:                                       # exit loop if episode finished\n",
    "        break\n",
    "    \n",
    "print(\"Score: {}\".format(score))"
   ]
  },
  {
   "cell_type": "markdown",
   "metadata": {},
   "source": [
    "When finished, you can close the environment."
   ]
  },
  {
   "cell_type": "code",
   "execution_count": 6,
   "metadata": {
    "ExecuteTime": {
     "end_time": "2020-05-26T17:45:16.765481Z",
     "start_time": "2020-05-26T17:45:16.722425Z"
    }
   },
   "outputs": [],
   "source": [
    "env.close()"
   ]
  },
  {
   "cell_type": "markdown",
   "metadata": {},
   "source": [
    "### 4. It's Your Turn!\n",
    "\n",
    "Now it's your turn to train your own agent to solve the environment!  When training the environment, set `train_mode=True`, so that the line for resetting the environment looks like the following:\n",
    "```python\n",
    "env_info = env.reset(train_mode=True)[brain_name]\n",
    "```"
   ]
  },
  {
   "cell_type": "code",
   "execution_count": 5,
   "metadata": {
    "ExecuteTime": {
     "end_time": "2020-05-31T15:49:58.357564Z",
     "start_time": "2020-05-31T15:49:57.872037Z"
    }
   },
   "outputs": [],
   "source": [
    "from collections import deque\n",
    "from dqn_agent import Agent\n",
    "from tqdm.notebook import tqdm\n",
    "import torch\n",
    "\n",
    "def dqn(n_episodes=5000, max_t=1000, eps_start=1.0, eps_end=0.01, eps_decay=0.995, double=False, training=False):\n",
    "    \"\"\"Deep Q-Learning.\n",
    "    \n",
    "    Params\n",
    "    ======\n",
    "        n_episodes (int): maximum number of training episodes\n",
    "        max_t (int): maximum number of timesteps per episode\n",
    "        eps_start (float): starting value of epsilon, for epsilon-greedy action selection\n",
    "        eps_end (float): minimum value of epsilon\n",
    "        eps_decay (float): multiplicative factor (per episode) for decreasing epsilon\n",
    "    \"\"\"\n",
    "    agent = Agent(state_size=state_size, action_size=action_size, seed=0)\n",
    "    scores = []                        # list containing scores from each episode\n",
    "    scores_window = deque(maxlen=100)  # last 100 scores\n",
    "    eps = eps_start                    # initialize epsilon\n",
    "    max_avg_score = 0\n",
    "    for i_episode in tqdm(range(1, n_episodes+1)):\n",
    "        env_info = env.reset(train_mode=training)[brain_name]\n",
    "        state = env_info.vector_observations[0]\n",
    "        score = 0\n",
    "        while True: #for t in range(max_t):\n",
    "            # select an action\n",
    "            action = agent.act(state, eps)\n",
    "            # send the action to the environment\n",
    "            env_info = env.step(action)[brain_name]\n",
    "            # get experience\n",
    "            reward, next_state, done = env_info.rewards[0], env_info.vector_observations[0], env_info.local_done[0]\n",
    "            agent.step(state, action, reward, next_state, done, double=double)\n",
    "            # update the score\n",
    "            score += reward\n",
    "            state = next_state\n",
    "            if done:\n",
    "                break \n",
    "        scores_window.append(score)       # save most recent score\n",
    "        scores.append(score)              # save most recent score\n",
    "        eps = max(eps_end, eps_decay*eps) # decrease epsilon\n",
    "        print('\\rEpisode {}\\tAverage Score: {:.2f}'.format(i_episode, np.mean(scores_window)), end=\"\")\n",
    "        if i_episode % 100 == 0:\n",
    "            print('\\rEpisode {}\\tAverage Score: {:.2f}'.format(i_episode, np.mean(scores_window)))\n",
    "        if len(scores_window) >= 100 and np.mean(scores_window) > 10 and max_avg_score < np.mean(scores_window):\n",
    "            max_avg_score = np.mean(scores_window)\n",
    "            print('\\nModel updated at {:d} episode!\\tAverage Score: {:.2f}'.format(i_episode, np.mean(scores_window)))\n",
    "            torch.save(agent.Q_model_local.state_dict(), './model/model_{}.pt'.format(i_episode))\n",
    "    return scores"
   ]
  },
  {
   "cell_type": "markdown",
   "metadata": {},
   "source": [
    "#### Deep Q-Network"
   ]
  },
  {
   "cell_type": "code",
   "execution_count": 5,
   "metadata": {
    "ExecuteTime": {
     "end_time": "2020-05-29T12:09:37.253340Z",
     "start_time": "2020-05-29T06:50:16.254124Z"
    },
    "scrolled": true
   },
   "outputs": [
    {
     "data": {
      "application/vnd.jupyter.widget-view+json": {
       "model_id": "",
       "version_major": 2,
       "version_minor": 0
      },
      "text/plain": [
       "HBox(children=(FloatProgress(value=0.0, max=5000.0), HTML(value='')))"
      ]
     },
     "metadata": {},
     "output_type": "display_data"
    },
    {
     "name": "stdout",
     "output_type": "stream",
     "text": [
      "Episode 2\tAverage Score: 0.50\n",
      "Model updated at 2 episode!\tAverage Score: 0.50\n",
      "Episode 13\tAverage Score: -0.23\n",
      "Model updated at 13 episode!\tAverage Score: -0.23\n",
      "Episode 21\tAverage Score: -0.14\n",
      "Model updated at 21 episode!\tAverage Score: -0.14\n",
      "Episode 56\tAverage Score: 0.204\n",
      "Model updated at 56 episode!\tAverage Score: 0.20\n",
      "Episode 57\tAverage Score: 0.28\n",
      "Model updated at 57 episode!\tAverage Score: 0.28\n",
      "Episode 70\tAverage Score: 0.50\n",
      "Model updated at 70 episode!\tAverage Score: 0.50\n",
      "Episode 100\tAverage Score: 0.84\n",
      "Episode 133\tAverage Score: 1.89\n",
      "Model updated at 133 episode!\tAverage Score: 1.89\n",
      "Episode 159\tAverage Score: 2.84\n",
      "Model updated at 159 episode!\tAverage Score: 2.84\n",
      "Episode 200\tAverage Score: 4.17\n",
      "Episode 210\tAverage Score: 4.65\n",
      "Model updated at 210 episode!\tAverage Score: 4.65\n",
      "Episode 212\tAverage Score: 4.73\n",
      "Model updated at 212 episode!\tAverage Score: 4.73\n",
      "Episode 214\tAverage Score: 4.93\n",
      "Model updated at 214 episode!\tAverage Score: 4.93\n",
      "Episode 300\tAverage Score: 7.34\n",
      "Episode 342\tAverage Score: 8.86\n",
      "Model updated at 342 episode!\tAverage Score: 8.86\n",
      "Episode 382\tAverage Score: 10.30\n",
      "Model updated at 382 episode!\tAverage Score: 10.30\n",
      "Episode 400\tAverage Score: 10.68\n",
      "Episode 500\tAverage Score: 13.23\n",
      "Episode 507\tAverage Score: 13.46\n",
      "Model updated at 507 episode!\tAverage Score: 13.46\n",
      "Episode 600\tAverage Score: 14.80\n",
      "Episode 700\tAverage Score: 14.39\n",
      "Episode 800\tAverage Score: 14.31\n",
      "Episode 866\tAverage Score: 14.50\n",
      "Model updated at 866 episode!\tAverage Score: 14.50\n",
      "Episode 900\tAverage Score: 14.12\n",
      "Episode 1000\tAverage Score: 14.14\n",
      "Episode 1100\tAverage Score: 13.70\n",
      "Episode 1200\tAverage Score: 14.72\n",
      "Episode 1300\tAverage Score: 13.97\n",
      "Episode 1400\tAverage Score: 14.65\n",
      "Episode 1500\tAverage Score: 13.45\n",
      "Episode 1600\tAverage Score: 14.02\n",
      "Episode 1700\tAverage Score: 13.45\n",
      "Episode 1800\tAverage Score: 13.32\n",
      "Episode 1900\tAverage Score: 13.38\n",
      "Episode 2000\tAverage Score: 14.57\n",
      "Episode 2100\tAverage Score: 14.11\n",
      "Episode 2168\tAverage Score: 13.94\n",
      "Model updated at 2168 episode!\tAverage Score: 13.94\n",
      "Episode 2200\tAverage Score: 13.67\n",
      "Episode 2300\tAverage Score: 13.37\n",
      "Episode 2400\tAverage Score: 14.83\n",
      "Episode 2500\tAverage Score: 14.17\n",
      "Episode 2600\tAverage Score: 14.55\n",
      "Episode 2700\tAverage Score: 13.41\n",
      "Episode 2800\tAverage Score: 13.16\n",
      "Episode 2900\tAverage Score: 14.23\n",
      "Episode 3000\tAverage Score: 14.10\n",
      "Episode 3100\tAverage Score: 13.60\n",
      "Episode 3200\tAverage Score: 13.49\n",
      "Episode 3300\tAverage Score: 14.38\n",
      "Episode 3400\tAverage Score: 13.51\n",
      "Episode 3500\tAverage Score: 13.09\n",
      "Episode 3600\tAverage Score: 12.78\n",
      "Episode 3692\tAverage Score: 13.73\n",
      "Model updated at 3692 episode!\tAverage Score: 13.73\n",
      "Episode 3700\tAverage Score: 13.65\n",
      "Episode 3800\tAverage Score: 13.93\n",
      "Episode 3858\tAverage Score: 13.39\n",
      "Model updated at 3858 episode!\tAverage Score: 13.39\n",
      "Episode 3900\tAverage Score: 13.50\n",
      "Episode 4000\tAverage Score: 13.25\n",
      "Episode 4100\tAverage Score: 11.49\n",
      "Episode 4200\tAverage Score: 12.46\n",
      "Episode 4300\tAverage Score: 12.47\n",
      "Episode 4400\tAverage Score: 13.67\n",
      "Episode 4500\tAverage Score: 12.20\n",
      "Episode 4600\tAverage Score: 12.01\n",
      "Episode 4700\tAverage Score: 13.91\n",
      "Episode 4800\tAverage Score: 13.44\n",
      "Episode 4900\tAverage Score: 14.65\n",
      "Episode 5000\tAverage Score: 14.83\n",
      "\n"
     ]
    },
    {
     "ename": "NameError",
     "evalue": "name 'plt' is not defined",
     "output_type": "error",
     "traceback": [
      "\u001b[0;31m---------------------------------------------------------------------------\u001b[0m",
      "\u001b[0;31mNameError\u001b[0m                                 Traceback (most recent call last)",
      "\u001b[0;32m<ipython-input-5-0f1b750f7d91>\u001b[0m in \u001b[0;36m<module>\u001b[0;34m\u001b[0m\n\u001b[1;32m     52\u001b[0m \u001b[0;34m\u001b[0m\u001b[0m\n\u001b[1;32m     53\u001b[0m \u001b[0;31m# plot the scores\u001b[0m\u001b[0;34m\u001b[0m\u001b[0;34m\u001b[0m\u001b[0;34m\u001b[0m\u001b[0m\n\u001b[0;32m---> 54\u001b[0;31m \u001b[0mfig\u001b[0m \u001b[0;34m=\u001b[0m \u001b[0mplt\u001b[0m\u001b[0;34m.\u001b[0m\u001b[0mfigure\u001b[0m\u001b[0;34m(\u001b[0m\u001b[0;34m)\u001b[0m\u001b[0;34m\u001b[0m\u001b[0;34m\u001b[0m\u001b[0m\n\u001b[0m\u001b[1;32m     55\u001b[0m \u001b[0max\u001b[0m \u001b[0;34m=\u001b[0m \u001b[0mfig\u001b[0m\u001b[0;34m.\u001b[0m\u001b[0madd_subplot\u001b[0m\u001b[0;34m(\u001b[0m\u001b[0;36m111\u001b[0m\u001b[0;34m)\u001b[0m\u001b[0;34m\u001b[0m\u001b[0;34m\u001b[0m\u001b[0m\n\u001b[1;32m     56\u001b[0m \u001b[0mplt\u001b[0m\u001b[0;34m.\u001b[0m\u001b[0mplot\u001b[0m\u001b[0;34m(\u001b[0m\u001b[0mnp\u001b[0m\u001b[0;34m.\u001b[0m\u001b[0marange\u001b[0m\u001b[0;34m(\u001b[0m\u001b[0mlen\u001b[0m\u001b[0;34m(\u001b[0m\u001b[0mscores\u001b[0m\u001b[0;34m)\u001b[0m\u001b[0;34m)\u001b[0m\u001b[0;34m,\u001b[0m \u001b[0mscores\u001b[0m\u001b[0;34m)\u001b[0m\u001b[0;34m\u001b[0m\u001b[0;34m\u001b[0m\u001b[0m\n",
      "\u001b[0;31mNameError\u001b[0m: name 'plt' is not defined"
     ]
    }
   ],
   "source": [
    "scores = dqn(training=True)\n",
    "\n",
    "# plot the scores\n",
    "fig = plt.figure()\n",
    "ax = fig.add_subplot(111)\n",
    "plt.plot(np.arange(len(scores)), scores)\n",
    "plt.ylabel('Score')\n",
    "plt.xlabel('Episode #')\n",
    "plt.show()"
   ]
  },
  {
   "cell_type": "code",
   "execution_count": 15,
   "metadata": {
    "ExecuteTime": {
     "end_time": "2020-05-29T16:39:47.453380Z",
     "start_time": "2020-05-29T16:39:47.197708Z"
    }
   },
   "outputs": [
    {
     "data": {
      "image/png": "[encoded data removed]",
      "text/plain": [
       "<Figure size 432x288 with 1 Axes>"
      ]
     },
     "metadata": {
      "needs_background": "light"
     },
     "output_type": "display_data"
    }
   ],
   "source": [
    "%matplotlib inline\n",
    "import matplotlib.pyplot as plt\n",
    "import pandas as pd\n",
    "\n",
    "rolling_window = 100\n",
    "\n",
    "# plot the scores\n",
    "fig = plt.figure()\n",
    "ax = fig.add_subplot(111)\n",
    "plt.plot(np.arange(len(scores)), scores)\n",
    "rolling_mean = pd.Series(scores).rolling(rolling_window).mean()\n",
    "plt.plot(rolling_mean);\n",
    "plt.ylabel('Score')\n",
    "plt.xlabel('Episode #')\n",
    "plt.title('Deep Q-Network(DQN)')\n",
    "plt.show()"
   ]
  },
  {
   "cell_type": "code",
   "execution_count": 16,
   "metadata": {
    "ExecuteTime": {
     "end_time": "2020-05-29T16:58:42.179684Z",
     "start_time": "2020-05-29T16:58:42.096607Z"
    }
   },
   "outputs": [],
   "source": [
    "env.close()"
   ]
  },
  {
   "cell_type": "markdown",
   "metadata": {},
   "source": [
    "#### Double Deep Q-Network"
   ]
  },
  {
   "cell_type": "code",
   "execution_count": 6,
   "metadata": {
    "ExecuteTime": {
     "end_time": "2020-05-31T10:11:36.820625Z",
     "start_time": "2020-05-31T04:28:40.354415Z"
    },
    "scrolled": true
   },
   "outputs": [
    {
     "data": {
      "application/vnd.jupyter.widget-view+json": {
       "model_id": "",
       "version_major": 2,
       "version_minor": 0
      },
      "text/plain": [
       "HBox(children=(FloatProgress(value=0.0, max=5000.0), HTML(value='')))"
      ]
     },
     "metadata": {},
     "output_type": "display_data"
    },
    {
     "name": "stdout",
     "output_type": "stream",
     "text": [
      "Episode 100\tAverage Score: 0.76\n",
      "Episode 200\tAverage Score: 3.29\n",
      "Episode 300\tAverage Score: 7.20\n",
      "Episode 400\tAverage Score: 9.88\n",
      "Episode 415\tAverage Score: 10.14\n",
      "Model updated at 415 episode!\tAverage Score: 10.14\n",
      "Episode 416\tAverage Score: 10.15\n",
      "Model updated at 416 episode!\tAverage Score: 10.15\n",
      "Episode 422\tAverage Score: 10.17\n",
      "Model updated at 422 episode!\tAverage Score: 10.17\n",
      "Episode 423\tAverage Score: 10.22\n",
      "Model updated at 423 episode!\tAverage Score: 10.22\n",
      "Episode 426\tAverage Score: 10.31\n",
      "Model updated at 426 episode!\tAverage Score: 10.31\n",
      "Episode 429\tAverage Score: 10.33\n",
      "Model updated at 429 episode!\tAverage Score: 10.33\n",
      "Episode 430\tAverage Score: 10.36\n",
      "Model updated at 430 episode!\tAverage Score: 10.36\n",
      "Episode 432\tAverage Score: 10.42\n",
      "Model updated at 432 episode!\tAverage Score: 10.42\n",
      "Episode 433\tAverage Score: 10.51\n",
      "Model updated at 433 episode!\tAverage Score: 10.51\n",
      "Episode 434\tAverage Score: 10.52\n",
      "Model updated at 434 episode!\tAverage Score: 10.52\n",
      "Episode 435\tAverage Score: 10.53\n",
      "Model updated at 435 episode!\tAverage Score: 10.53\n",
      "Episode 436\tAverage Score: 10.55\n",
      "Model updated at 436 episode!\tAverage Score: 10.55\n",
      "Episode 440\tAverage Score: 10.60\n",
      "Model updated at 440 episode!\tAverage Score: 10.60\n",
      "Episode 441\tAverage Score: 10.65\n",
      "Model updated at 441 episode!\tAverage Score: 10.65\n",
      "Episode 442\tAverage Score: 10.76\n",
      "Model updated at 442 episode!\tAverage Score: 10.76\n",
      "Episode 443\tAverage Score: 10.86\n",
      "Model updated at 443 episode!\tAverage Score: 10.86\n",
      "Episode 445\tAverage Score: 10.95\n",
      "Model updated at 445 episode!\tAverage Score: 10.95\n",
      "Episode 446\tAverage Score: 11.00\n",
      "Model updated at 446 episode!\tAverage Score: 11.00\n",
      "Episode 447\tAverage Score: 11.01\n",
      "Model updated at 447 episode!\tAverage Score: 11.01\n",
      "Episode 500\tAverage Score: 10.88\n",
      "Episode 510\tAverage Score: 11.05\n",
      "Model updated at 510 episode!\tAverage Score: 11.05\n",
      "Episode 569\tAverage Score: 11.09\n",
      "Model updated at 569 episode!\tAverage Score: 11.09\n",
      "Episode 571\tAverage Score: 11.11\n",
      "Model updated at 571 episode!\tAverage Score: 11.11\n",
      "Episode 572\tAverage Score: 11.14\n",
      "Model updated at 572 episode!\tAverage Score: 11.14\n",
      "Episode 573\tAverage Score: 11.20\n",
      "Model updated at 573 episode!\tAverage Score: 11.20\n",
      "Episode 574\tAverage Score: 11.28\n",
      "Model updated at 574 episode!\tAverage Score: 11.28\n",
      "Episode 575\tAverage Score: 11.34\n",
      "Model updated at 575 episode!\tAverage Score: 11.34\n",
      "Episode 577\tAverage Score: 11.38\n",
      "Model updated at 577 episode!\tAverage Score: 11.38\n",
      "Episode 578\tAverage Score: 11.39\n",
      "Model updated at 578 episode!\tAverage Score: 11.39\n",
      "Episode 579\tAverage Score: 11.41\n",
      "Model updated at 579 episode!\tAverage Score: 11.41\n",
      "Episode 581\tAverage Score: 11.48\n",
      "Model updated at 581 episode!\tAverage Score: 11.48\n",
      "Episode 582\tAverage Score: 11.52\n",
      "Model updated at 582 episode!\tAverage Score: 11.52\n",
      "Episode 583\tAverage Score: 11.57\n",
      "Model updated at 583 episode!\tAverage Score: 11.57\n",
      "Episode 584\tAverage Score: 11.63\n",
      "Model updated at 584 episode!\tAverage Score: 11.63\n",
      "Episode 585\tAverage Score: 11.67\n",
      "Model updated at 585 episode!\tAverage Score: 11.67\n",
      "Episode 586\tAverage Score: 11.68\n",
      "Model updated at 586 episode!\tAverage Score: 11.68\n",
      "Episode 594\tAverage Score: 11.71\n",
      "Model updated at 594 episode!\tAverage Score: 11.71\n",
      "Episode 595\tAverage Score: 11.78\n",
      "Model updated at 595 episode!\tAverage Score: 11.78\n",
      "Episode 600\tAverage Score: 11.55\n",
      "Episode 611\tAverage Score: 11.82\n",
      "Model updated at 611 episode!\tAverage Score: 11.82\n",
      "Episode 612\tAverage Score: 11.84\n",
      "Model updated at 612 episode!\tAverage Score: 11.84\n",
      "Episode 613\tAverage Score: 11.86\n",
      "Model updated at 613 episode!\tAverage Score: 11.86\n",
      "Episode 614\tAverage Score: 11.87\n",
      "Model updated at 614 episode!\tAverage Score: 11.87\n",
      "Episode 615\tAverage Score: 11.93\n",
      "Model updated at 615 episode!\tAverage Score: 11.93\n",
      "Episode 617\tAverage Score: 11.98\n",
      "Model updated at 617 episode!\tAverage Score: 11.98\n",
      "Episode 636\tAverage Score: 12.06\n",
      "Model updated at 636 episode!\tAverage Score: 12.06\n",
      "Episode 639\tAverage Score: 12.12\n",
      "Model updated at 639 episode!\tAverage Score: 12.12\n",
      "Episode 700\tAverage Score: 12.11\n",
      "Episode 800\tAverage Score: 11.40\n",
      "Episode 815\tAverage Score: 12.17\n",
      "Model updated at 815 episode!\tAverage Score: 12.17\n",
      "Episode 817\tAverage Score: 12.19\n",
      "Model updated at 817 episode!\tAverage Score: 12.19\n",
      "Episode 819\tAverage Score: 12.22\n",
      "Model updated at 819 episode!\tAverage Score: 12.22\n",
      "Episode 820\tAverage Score: 12.27\n",
      "Model updated at 820 episode!\tAverage Score: 12.27\n",
      "Episode 821\tAverage Score: 12.32\n",
      "Model updated at 821 episode!\tAverage Score: 12.32\n",
      "Episode 822\tAverage Score: 12.35\n",
      "Model updated at 822 episode!\tAverage Score: 12.35\n",
      "Episode 824\tAverage Score: 12.45\n",
      "Model updated at 824 episode!\tAverage Score: 12.45\n",
      "Episode 825\tAverage Score: 12.49\n",
      "Model updated at 825 episode!\tAverage Score: 12.49\n",
      "Episode 827\tAverage Score: 12.50\n",
      "Model updated at 827 episode!\tAverage Score: 12.50\n",
      "Episode 828\tAverage Score: 12.57\n",
      "Model updated at 828 episode!\tAverage Score: 12.57\n",
      "Episode 829\tAverage Score: 12.61\n",
      "Model updated at 829 episode!\tAverage Score: 12.61\n",
      "Episode 832\tAverage Score: 12.67\n",
      "Model updated at 832 episode!\tAverage Score: 12.67\n",
      "Episode 833\tAverage Score: 12.71\n",
      "Model updated at 833 episode!\tAverage Score: 12.71\n",
      "Episode 836\tAverage Score: 12.82\n",
      "Model updated at 836 episode!\tAverage Score: 12.82\n",
      "Episode 837\tAverage Score: 12.87\n",
      "Model updated at 837 episode!\tAverage Score: 12.87\n",
      "Episode 838\tAverage Score: 12.91\n",
      "Model updated at 838 episode!\tAverage Score: 12.91\n",
      "Episode 839\tAverage Score: 12.93\n",
      "Model updated at 839 episode!\tAverage Score: 12.93\n",
      "Episode 848\tAverage Score: 12.97\n",
      "Model updated at 848 episode!\tAverage Score: 12.97\n",
      "Episode 851\tAverage Score: 12.99\n",
      "Model updated at 851 episode!\tAverage Score: 12.99\n",
      "Episode 852\tAverage Score: 13.02\n",
      "Model updated at 852 episode!\tAverage Score: 13.02\n",
      "Episode 874\tAverage Score: 13.10\n",
      "Model updated at 874 episode!\tAverage Score: 13.10\n",
      "Episode 877\tAverage Score: 13.14\n",
      "Model updated at 877 episode!\tAverage Score: 13.14\n",
      "Episode 879\tAverage Score: 13.15\n",
      "Model updated at 879 episode!\tAverage Score: 13.15\n",
      "Episode 881\tAverage Score: 13.24\n",
      "Model updated at 881 episode!\tAverage Score: 13.24\n",
      "Episode 884\tAverage Score: 13.26\n",
      "Model updated at 884 episode!\tAverage Score: 13.26\n",
      "Episode 885\tAverage Score: 13.29\n",
      "Model updated at 885 episode!\tAverage Score: 13.29\n",
      "Episode 886\tAverage Score: 13.32\n",
      "Model updated at 886 episode!\tAverage Score: 13.32\n",
      "Episode 887\tAverage Score: 13.37\n",
      "Model updated at 887 episode!\tAverage Score: 13.37\n",
      "Episode 889\tAverage Score: 13.38\n",
      "Model updated at 889 episode!\tAverage Score: 13.38\n",
      "Episode 890\tAverage Score: 13.41\n",
      "Model updated at 890 episode!\tAverage Score: 13.41\n",
      "Episode 891\tAverage Score: 13.52\n",
      "Model updated at 891 episode!\tAverage Score: 13.52\n",
      "Episode 893\tAverage Score: 13.58\n",
      "Model updated at 893 episode!\tAverage Score: 13.58\n",
      "Episode 894\tAverage Score: 13.61\n",
      "Model updated at 894 episode!\tAverage Score: 13.61\n",
      "Episode 899\tAverage Score: 13.63\n",
      "Model updated at 899 episode!\tAverage Score: 13.63\n",
      "Episode 900\tAverage Score: 13.62\n",
      "Episode 1000\tAverage Score: 10.96\n",
      "Episode 1100\tAverage Score: 13.04\n",
      "Episode 1200\tAverage Score: 11.73\n",
      "Episode 1300\tAverage Score: 12.92\n",
      "Episode 1338\tAverage Score: 13.65\n",
      "Model updated at 1338 episode!\tAverage Score: 13.65\n",
      "Episode 1348\tAverage Score: 13.72\n",
      "Model updated at 1348 episode!\tAverage Score: 13.72\n",
      "Episode 1349\tAverage Score: 13.81\n",
      "Model updated at 1349 episode!\tAverage Score: 13.81\n",
      "Episode 1351\tAverage Score: 13.91\n",
      "Model updated at 1351 episode!\tAverage Score: 13.91\n",
      "Episode 1352\tAverage Score: 13.95\n",
      "Model updated at 1352 episode!\tAverage Score: 13.95\n",
      "Episode 1384\tAverage Score: 13.96\n",
      "Model updated at 1384 episode!\tAverage Score: 13.96\n",
      "Episode 1392\tAverage Score: 14.00\n",
      "Model updated at 1392 episode!\tAverage Score: 14.00\n",
      "Episode 1393\tAverage Score: 14.12\n",
      "Model updated at 1393 episode!\tAverage Score: 14.12\n",
      "Episode 1400\tAverage Score: 13.88\n",
      "Episode 1500\tAverage Score: 13.16\n",
      "Episode 1600\tAverage Score: 13.05\n",
      "Episode 1700\tAverage Score: 12.62\n",
      "Episode 1800\tAverage Score: 12.80\n",
      "Episode 1900\tAverage Score: 12.63\n",
      "Episode 2000\tAverage Score: 12.91\n",
      "Episode 2100\tAverage Score: 13.56\n",
      "Episode 2200\tAverage Score: 13.37\n",
      "Episode 2300\tAverage Score: 13.22\n",
      "Episode 2400\tAverage Score: 12.61\n",
      "Episode 2500\tAverage Score: 13.18\n"
     ]
    },
    {
     "name": "stdout",
     "output_type": "stream",
     "text": [
      "Episode 2600\tAverage Score: 12.98\n",
      "Episode 2700\tAverage Score: 12.84\n",
      "Episode 2800\tAverage Score: 12.59\n",
      "Episode 2900\tAverage Score: 12.38\n",
      "Episode 3000\tAverage Score: 12.65\n",
      "Episode 3100\tAverage Score: 12.02\n",
      "Episode 3200\tAverage Score: 12.21\n",
      "Episode 3300\tAverage Score: 12.99\n",
      "Episode 3400\tAverage Score: 11.51\n",
      "Episode 3500\tAverage Score: 11.84\n",
      "Episode 3600\tAverage Score: 12.29\n",
      "Episode 3700\tAverage Score: 12.88\n",
      "Episode 3800\tAverage Score: 12.45\n",
      "Episode 3900\tAverage Score: 12.71\n",
      "Episode 4000\tAverage Score: 12.59\n",
      "Episode 4100\tAverage Score: 12.49\n",
      "Episode 4200\tAverage Score: 12.33\n",
      "Episode 4300\tAverage Score: 11.86\n",
      "Episode 4400\tAverage Score: 12.77\n",
      "Episode 4500\tAverage Score: 13.48\n",
      "Episode 4600\tAverage Score: 13.37\n",
      "Episode 4700\tAverage Score: 12.70\n",
      "Episode 4800\tAverage Score: 12.81\n",
      "Episode 4900\tAverage Score: 13.05\n",
      "Episode 5000\tAverage Score: 13.14\n",
      "\n"
     ]
    },
    {
     "data": {
      "image/png": "[encoded data removed]",
      "text/plain": [
       "<Figure size 936x432 with 1 Axes>"
      ]
     },
     "metadata": {
      "needs_background": "light"
     },
     "output_type": "display_data"
    }
   ],
   "source": [
    "scores = dqn(double=True, training=True)\n",
    "\n",
    "rolling_window = 100\n",
    "\n",
    "# plot the scores\n",
    "fig = plt.figure(figsize=(13,6))\n",
    "ax = fig.add_subplot(111)\n",
    "plt.plot(np.arange(len(scores)), scores)\n",
    "rolling_mean = pd.Series(scores).rolling(rolling_window).mean()\n",
    "plt.plot(rolling_mean)\n",
    "plt.ylabel('Score')\n",
    "plt.xlabel('Episode #')\n",
    "plt.title('Double Deep Q-Network(DQN)')\n",
    "plt.show()"
   ]
  },
  {
   "cell_type": "code",
   "execution_count": null,
   "metadata": {
    "ExecuteTime": {
     "start_time": "2020-05-31T15:50:06.225Z"
    },
    "scrolled": true
   },
   "outputs": [
    {
     "data": {
      "application/vnd.jupyter.widget-view+json": {
       "model_id": "e3cb6a532b9f4c65892575177f4a556c",
       "version_major": 2,
       "version_minor": 0
      },
      "text/plain": [
       "HBox(children=(FloatProgress(value=0.0, max=5000.0), HTML(value='')))"
      ]
     },
     "metadata": {},
     "output_type": "display_data"
    },
    {
     "name": "stdout",
     "output_type": "stream",
     "text": [
      "Episode 100\tAverage Score: 0.51\n",
      "Episode 200\tAverage Score: 1.99\n",
      "Episode 300\tAverage Score: 4.70\n",
      "Episode 400\tAverage Score: 9.23\n",
      "Episode 412\tAverage Score: 10.02\n",
      "Model updated at 412 episode!\tAverage Score: 10.02\n",
      "Episode 413\tAverage Score: 10.05\n",
      "Model updated at 413 episode!\tAverage Score: 10.05\n",
      "Episode 414\tAverage Score: 10.11\n",
      "Model updated at 414 episode!\tAverage Score: 10.11\n",
      "Episode 415\tAverage Score: 10.21\n",
      "Model updated at 415 episode!\tAverage Score: 10.21\n",
      "Episode 416\tAverage Score: 10.25\n",
      "Model updated at 416 episode!\tAverage Score: 10.25\n",
      "Episode 417\tAverage Score: 10.28\n",
      "Model updated at 417 episode!\tAverage Score: 10.28\n",
      "Episode 418\tAverage Score: 10.38\n",
      "Model updated at 418 episode!\tAverage Score: 10.38\n",
      "Episode 419\tAverage Score: 10.41\n",
      "Model updated at 419 episode!\tAverage Score: 10.41\n",
      "Episode 420\tAverage Score: 10.53\n",
      "Model updated at 420 episode!\tAverage Score: 10.53\n",
      "Episode 421\tAverage Score: 10.55\n",
      "Model updated at 421 episode!\tAverage Score: 10.55\n",
      "Episode 422\tAverage Score: 10.58\n",
      "Model updated at 422 episode!\tAverage Score: 10.58\n",
      "Episode 423\tAverage Score: 10.67\n",
      "Model updated at 423 episode!\tAverage Score: 10.67\n",
      "Episode 425\tAverage Score: 10.71\n",
      "Model updated at 425 episode!\tAverage Score: 10.71\n",
      "Episode 426\tAverage Score: 10.80\n",
      "Model updated at 426 episode!\tAverage Score: 10.80\n",
      "Episode 427\tAverage Score: 10.81\n",
      "Model updated at 427 episode!\tAverage Score: 10.81\n",
      "Episode 429\tAverage Score: 10.90\n",
      "Model updated at 429 episode!\tAverage Score: 10.90\n",
      "Episode 430\tAverage Score: 11.07\n",
      "Model updated at 430 episode!\tAverage Score: 11.07\n",
      "Episode 431\tAverage Score: 11.10\n",
      "Model updated at 431 episode!\tAverage Score: 11.10\n",
      "Episode 432\tAverage Score: 11.13\n",
      "Model updated at 432 episode!\tAverage Score: 11.13\n",
      "Episode 433\tAverage Score: 11.25\n",
      "Model updated at 433 episode!\tAverage Score: 11.25\n",
      "Episode 434\tAverage Score: 11.35\n",
      "Model updated at 434 episode!\tAverage Score: 11.35\n",
      "Episode 435\tAverage Score: 11.41\n",
      "Model updated at 435 episode!\tAverage Score: 11.41\n",
      "Episode 436\tAverage Score: 11.51\n",
      "Model updated at 436 episode!\tAverage Score: 11.51\n",
      "Episode 437\tAverage Score: 11.54\n",
      "Model updated at 437 episode!\tAverage Score: 11.54\n",
      "Episode 438\tAverage Score: 11.58\n",
      "Model updated at 438 episode!\tAverage Score: 11.58\n",
      "Episode 439\tAverage Score: 11.73\n",
      "Model updated at 439 episode!\tAverage Score: 11.73\n",
      "Episode 440\tAverage Score: 11.83\n",
      "Model updated at 440 episode!\tAverage Score: 11.83\n",
      "Episode 441\tAverage Score: 11.87\n",
      "Model updated at 441 episode!\tAverage Score: 11.87\n",
      "Episode 442\tAverage Score: 12.00\n",
      "Model updated at 442 episode!\tAverage Score: 12.00\n",
      "Episode 443\tAverage Score: 12.07\n",
      "Model updated at 443 episode!\tAverage Score: 12.07\n",
      "Episode 446\tAverage Score: 12.13\n",
      "Model updated at 446 episode!\tAverage Score: 12.13\n",
      "Episode 447\tAverage Score: 12.17\n",
      "Model updated at 447 episode!\tAverage Score: 12.17\n",
      "Episode 448\tAverage Score: 12.27\n",
      "Model updated at 448 episode!\tAverage Score: 12.27\n",
      "Episode 450\tAverage Score: 12.45\n",
      "Model updated at 450 episode!\tAverage Score: 12.45\n",
      "Episode 451\tAverage Score: 12.55\n",
      "Model updated at 451 episode!\tAverage Score: 12.55\n",
      "Episode 452\tAverage Score: 12.65\n",
      "Model updated at 452 episode!\tAverage Score: 12.65\n",
      "Episode 453\tAverage Score: 12.71\n",
      "Model updated at 453 episode!\tAverage Score: 12.71\n",
      "Episode 454\tAverage Score: 12.74\n",
      "Model updated at 454 episode!\tAverage Score: 12.74\n",
      "Episode 456\tAverage Score: 12.77\n",
      "Model updated at 456 episode!\tAverage Score: 12.77\n",
      "Episode 457\tAverage Score: 12.80\n",
      "Model updated at 457 episode!\tAverage Score: 12.80\n",
      "Episode 458\tAverage Score: 12.89\n",
      "Model updated at 458 episode!\tAverage Score: 12.89\n",
      "Episode 462\tAverage Score: 12.90\n",
      "Model updated at 462 episode!\tAverage Score: 12.90\n",
      "Episode 463\tAverage Score: 12.95\n",
      "Model updated at 463 episode!\tAverage Score: 12.95\n",
      "Episode 464\tAverage Score: 12.98\n",
      "Model updated at 464 episode!\tAverage Score: 12.98\n",
      "Episode 465\tAverage Score: 13.06\n",
      "Model updated at 465 episode!\tAverage Score: 13.06\n",
      "Episode 473\tAverage Score: 13.07\n",
      "Model updated at 473 episode!\tAverage Score: 13.07\n",
      "Episode 476\tAverage Score: 13.08\n",
      "Model updated at 476 episode!\tAverage Score: 13.08\n",
      "Episode 477\tAverage Score: 13.10\n",
      "Model updated at 477 episode!\tAverage Score: 13.10\n",
      "Episode 478\tAverage Score: 13.11\n",
      "Model updated at 478 episode!\tAverage Score: 13.11\n",
      "Episode 479\tAverage Score: 13.15\n",
      "Model updated at 479 episode!\tAverage Score: 13.15\n",
      "Episode 480\tAverage Score: 13.16\n",
      "Model updated at 480 episode!\tAverage Score: 13.16\n",
      "Episode 487\tAverage Score: 13.19\n",
      "Model updated at 487 episode!\tAverage Score: 13.19\n",
      "Episode 491\tAverage Score: 13.26\n",
      "Model updated at 491 episode!\tAverage Score: 13.26\n",
      "Episode 492\tAverage Score: 13.36\n",
      "Model updated at 492 episode!\tAverage Score: 13.36\n",
      "Episode 493\tAverage Score: 13.38\n",
      "Model updated at 493 episode!\tAverage Score: 13.38\n",
      "Episode 495\tAverage Score: 13.40\n",
      "Model updated at 495 episode!\tAverage Score: 13.40\n",
      "Episode 496\tAverage Score: 13.49\n",
      "Model updated at 496 episode!\tAverage Score: 13.49\n",
      "Episode 497\tAverage Score: 13.53\n",
      "Model updated at 497 episode!\tAverage Score: 13.53\n",
      "Episode 500\tAverage Score: 13.40\n",
      "Episode 516\tAverage Score: 13.56\n",
      "Model updated at 516 episode!\tAverage Score: 13.56\n",
      "Episode 517\tAverage Score: 13.63\n",
      "Model updated at 517 episode!\tAverage Score: 13.63\n",
      "Episode 521\tAverage Score: 13.65\n",
      "Model updated at 521 episode!\tAverage Score: 13.65\n",
      "Episode 524\tAverage Score: 13.68\n",
      "Model updated at 524 episode!\tAverage Score: 13.68\n",
      "Episode 525\tAverage Score: 13.69\n",
      "Model updated at 525 episode!\tAverage Score: 13.69\n",
      "Episode 559\tAverage Score: 13.75\n",
      "Model updated at 559 episode!\tAverage Score: 13.75\n",
      "Episode 560\tAverage Score: 13.78\n",
      "Model updated at 560 episode!\tAverage Score: 13.78\n",
      "Episode 578\tAverage Score: 13.79\n",
      "Model updated at 578 episode!\tAverage Score: 13.79\n",
      "Episode 579\tAverage Score: 13.88\n",
      "Model updated at 579 episode!\tAverage Score: 13.88\n",
      "Episode 580\tAverage Score: 13.91\n",
      "Model updated at 580 episode!\tAverage Score: 13.91\n",
      "Episode 582\tAverage Score: 13.99\n",
      "Model updated at 582 episode!\tAverage Score: 13.99\n",
      "Episode 585\tAverage Score: 14.02\n",
      "Model updated at 585 episode!\tAverage Score: 14.02\n",
      "Episode 586\tAverage Score: 14.05\n",
      "Model updated at 586 episode!\tAverage Score: 14.05\n",
      "Episode 588\tAverage Score: 14.11\n",
      "Model updated at 588 episode!\tAverage Score: 14.11\n",
      "Episode 589\tAverage Score: 14.21\n",
      "Model updated at 589 episode!\tAverage Score: 14.21\n",
      "Episode 600\tAverage Score: 14.14\n",
      "Episode 604\tAverage Score: 14.24\n",
      "Model updated at 604 episode!\tAverage Score: 14.24\n",
      "Episode 606\tAverage Score: 14.25\n",
      "Model updated at 606 episode!\tAverage Score: 14.25\n",
      "Episode 609\tAverage Score: 14.26\n",
      "Model updated at 609 episode!\tAverage Score: 14.26\n",
      "Episode 610\tAverage Score: 14.31\n",
      "Model updated at 610 episode!\tAverage Score: 14.31\n",
      "Episode 611\tAverage Score: 14.44\n",
      "Model updated at 611 episode!\tAverage Score: 14.44\n",
      "Episode 612\tAverage Score: 14.45\n",
      "Model updated at 612 episode!\tAverage Score: 14.45\n",
      "Episode 622\tAverage Score: 14.52\n",
      "Model updated at 622 episode!\tAverage Score: 14.52\n",
      "Episode 623\tAverage Score: 14.56\n",
      "Model updated at 623 episode!\tAverage Score: 14.56\n",
      "Episode 627\tAverage Score: 14.64\n",
      "Model updated at 627 episode!\tAverage Score: 14.64\n",
      "Episode 629\tAverage Score: 14.69\n",
      "Model updated at 629 episode!\tAverage Score: 14.69\n",
      "Episode 630\tAverage Score: 14.71\n",
      "Model updated at 630 episode!\tAverage Score: 14.71\n",
      "Episode 632\tAverage Score: 14.73\n",
      "Model updated at 632 episode!\tAverage Score: 14.73\n",
      "Episode 635\tAverage Score: 14.75\n",
      "Model updated at 635 episode!\tAverage Score: 14.75\n",
      "Episode 636\tAverage Score: 14.83\n",
      "Model updated at 636 episode!\tAverage Score: 14.83\n",
      "Episode 638\tAverage Score: 14.85\n",
      "Model updated at 638 episode!\tAverage Score: 14.85\n",
      "Episode 641\tAverage Score: 14.87\n",
      "Model updated at 641 episode!\tAverage Score: 14.87\n",
      "Episode 700\tAverage Score: 14.71\n",
      "Episode 772\tAverage Score: 14.89\n",
      "Model updated at 772 episode!\tAverage Score: 14.89\n",
      "Episode 773\tAverage Score: 14.93\n",
      "Model updated at 773 episode!\tAverage Score: 14.93\n",
      "Episode 777\tAverage Score: 14.97\n",
      "Model updated at 777 episode!\tAverage Score: 14.97\n",
      "Episode 800\tAverage Score: 14.83\n",
      "Episode 844\tAverage Score: 14.98\n",
      "Model updated at 844 episode!\tAverage Score: 14.98\n",
      "Episode 845\tAverage Score: 15.03\n",
      "Model updated at 845 episode!\tAverage Score: 15.03\n",
      "Episode 850\tAverage Score: 15.07\n",
      "Model updated at 850 episode!\tAverage Score: 15.07\n"
     ]
    },
    {
     "name": "stdout",
     "output_type": "stream",
     "text": [
      "Episode 855\tAverage Score: 15.09\n",
      "Model updated at 855 episode!\tAverage Score: 15.09\n",
      "Episode 856\tAverage Score: 15.10\n",
      "Model updated at 856 episode!\tAverage Score: 15.10\n",
      "Episode 857\tAverage Score: 15.21\n",
      "Model updated at 857 episode!\tAverage Score: 15.21\n",
      "Episode 864\tAverage Score: 15.23\n",
      "Model updated at 864 episode!\tAverage Score: 15.23\n",
      "Episode 865\tAverage Score: 15.32\n",
      "Model updated at 865 episode!\tAverage Score: 15.32\n",
      "Episode 868\tAverage Score: 15.34\n",
      "Model updated at 868 episode!\tAverage Score: 15.34\n",
      "Episode 900\tAverage Score: 15.01\n",
      "Episode 952\tAverage Score: 15.37\n",
      "Model updated at 952 episode!\tAverage Score: 15.37\n",
      "Episode 1000\tAverage Score: 14.79\n",
      "Episode 1100\tAverage Score: 13.91\n",
      "Episode 1200\tAverage Score: 13.65\n",
      "Episode 1300\tAverage Score: 14.58\n",
      "Episode 1400\tAverage Score: 14.38\n",
      "Episode 1500\tAverage Score: 14.86\n",
      "Episode 1600\tAverage Score: 14.51\n",
      "Episode 1700\tAverage Score: 14.33\n",
      "Episode 1800\tAverage Score: 13.99\n",
      "Episode 1900\tAverage Score: 13.64\n",
      "Episode 2000\tAverage Score: 13.42\n",
      "Episode 2100\tAverage Score: 12.95\n",
      "Episode 2152\tAverage Score: 13.11"
     ]
    }
   ],
   "source": [
    "scores = dqn(double=True, training=True)\n",
    "\n",
    "rolling_window = 100\n",
    "\n",
    "# plot the scores\n",
    "fig = plt.figure(figsize=(13,6))\n",
    "ax = fig.add_subplot(111)\n",
    "plt.plot(np.arange(len(scores)), scores)\n",
    "rolling_mean = pd.Series(scores).rolling(rolling_window).mean()\n",
    "plt.plot(rolling_mean)\n",
    "plt.ylabel('Score')\n",
    "plt.xlabel('Episode #')\n",
    "plt.title('Double Deep Q-Network(DQN)')\n",
    "plt.show()"
   ]
  },
  {
   "cell_type": "markdown",
   "metadata": {},
   "source": [
    "### Try Your Agent"
   ]
  },
  {
   "cell_type": "code",
   "execution_count": 10,
   "metadata": {
    "ExecuteTime": {
     "end_time": "2020-05-31T15:49:41.095728Z",
     "start_time": "2020-05-31T15:49:04.926406Z"
    }
   },
   "outputs": [
    {
     "name": "stdout",
     "output_type": "stream",
     "text": [
      "Score: 1.0\n"
     ]
    }
   ],
   "source": [
    "from dqn_agent import Agent\n",
    "\n",
    "episode_no = 1393\n",
    "agent = Agent(state_size=state_size, action_size=action_size, seed=0)\n",
    "agent.Q_model_local.load_state_dict(torch.load('./model_DDQN_woDO/model_{}.pt'.format(episode_no)))\n",
    "max_episode = 10\n",
    "\n",
    "for episode in range(max_episode):\n",
    "    env_info = env.reset(train_mode=False)[brain_name] # reset the environment\n",
    "    state = env_info.vector_observations[0]            # get the current state\n",
    "    score = 0                                          # initialize the score\n",
    "    while True:\n",
    "        action = agent.act(state, 1)                   # select an action\n",
    "        env_info = env.step(action)[brain_name]        # send the action to the environment\n",
    "        next_state = env_info.vector_observations[0]   # get the next state\n",
    "        reward = env_info.rewards[0]                   # get the reward\n",
    "        done = env_info.local_done[0]                  # see if episode has finished\n",
    "        score += reward                                # update the score\n",
    "        state = next_state                             # roll over the state to next time step\n",
    "        if done:                                       # exit loop if episode finished\n",
    "            break\n",
    "\n",
    "    print(\"Episode {:02d}, Score: {}\".format(episode, score))"
   ]
  },
  {
   "cell_type": "code",
   "execution_count": null,
   "metadata": {},
   "outputs": [],
   "source": []
  },
  {
   "cell_type": "code",
   "execution_count": null,
   "metadata": {},
   "outputs": [],
   "source": []
  }
 ],
 "metadata": {
  "kernelspec": {
   "display_name": "drlnd",
   "language": "python",
   "name": "drlnd"
  },
  "language_info": {
   "codemirror_mode": {
    "name": "ipython",
    "version": 3
   },
   "file_extension": ".py",
   "mimetype": "text/x-python",
   "name": "python",
   "nbconvert_exporter": "python",
   "pygments_lexer": "ipython3",
   "version": "3.6.10"
  },
  "toc": {
   "base_numbering": 1,
   "nav_menu": {},
   "number_sections": true,
   "sideBar": true,
   "skip_h1_title": true,
   "title_cell": "Table of Contents",
   "title_sidebar": "Contents",
   "toc_cell": true,
   "toc_position": {},
   "toc_section_display": true,
   "toc_window_display": true
  }
 },
 "nbformat": 4,
 "nbformat_minor": 2
}
